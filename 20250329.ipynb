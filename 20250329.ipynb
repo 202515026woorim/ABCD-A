{
  "nbformat": 4,
  "nbformat_minor": 0,
  "metadata": {
    "colab": {
      "provenance": [],
      "authorship_tag": "ABX9TyOUR6xsIOqxtSvWIMriP3lp",
      "include_colab_link": true
    },
    "kernelspec": {
      "name": "python3",
      "display_name": "Python 3"
    },
    "language_info": {
      "name": "python"
    }
  },
  "cells": [
    {
      "cell_type": "markdown",
      "metadata": {
        "id": "view-in-github",
        "colab_type": "text"
      },
      "source": [
        "<a href=\"https://colab.research.google.com/github/202515026woorim/ABCD-A/blob/main/20250329.ipynb\" target=\"_parent\"><img src=\"https://colab.research.google.com/assets/colab-badge.svg\" alt=\"Open In Colab\"/></a>"
      ]
    },
    {
      "cell_type": "code",
      "execution_count": null,
      "metadata": {
        "id": "X87d_XWFVRwD"
      },
      "outputs": [],
      "source": [
        "name = \"BlockDMask\"\n",
        "if name == \"BlockDMask\":\n",
        "    print(\"이름이 맞습니다.\")\n",
        "else:\n",
        "    print(\"이름이 다릅니다.\")\n",
        "\n",
        "pocket = 1000\n",
        "if pocket == 1000:\n",
        "    print(\"복권 구매\")\n",
        "elif pocket == 500:\n",
        "    print(\"껌 구매\")\n",
        "else:\n",
        "    print(\"집이나 가자\")"
      ]
    },
    {
      "cell_type": "code",
      "source": [
        "a = \"사과\"\n",
        "b = \"바나나\"\n",
        "c =  \"치즈\"\n",
        "if a == \"사과\" or b == \"바나나\":\n",
        "    print(\"사과 이거나 바나나 입니다.\")\n",
        "if a == \"사과\" and b == \"바나나\":\n",
        "    print(\"사과 이고 바나나 입니다.\")\n",
        "if not a == \"사과\":\n",
        "    print(\"사과가 어니어야 출력 됩니다.\")"
      ],
      "metadata": {
        "id": "7QHzRWDFVbo0"
      },
      "execution_count": null,
      "outputs": []
    },
    {
      "cell_type": "code",
      "source": [
        "a = [1, 2, 3, 4, 5, 6, 7, 8,] #튜플\n",
        "if 1 in a:\n",
        "    print(\"1 is in a\")\n",
        "elif 10 in a:\n",
        "    print(\"10 is in a\")"
      ],
      "metadata": {
        "id": "mBYG8ONbVf7-"
      },
      "execution_count": null,
      "outputs": []
    },
    {
      "cell_type": "code",
      "source": [
        "\n",
        "p_class = \"Z\"\n",
        "sel_amount = 79900\n",
        "\n",
        "if p_class == \"A\":\n",
        "    sel_amount *= 0.7 # 55930.0\n",
        "    print(f'판매가는 {sel_amount}원 입니다.')\n",
        "elif p_class == \"B\": # 67915.0\n",
        "    sel_amount *= 0.85\n",
        "    print(f'판매가는 {sel_amount}원 입니다.')\n",
        "elif p_class == \"C\": # 73508.0\n",
        "    sel_amount *= 0.92\n",
        "    print(f'판매가는 {sel_amount}원 입니다.')\n",
        "elif p_class == \"Z\": # 84911\n",
        "    sel_amount += 5000\n",
        "    print(f'판매가는 {sel_amount}원 입니다.')"
      ],
      "metadata": {
        "id": "GxpNjPBGViCH"
      },
      "execution_count": null,
      "outputs": []
    },
    {
      "cell_type": "code",
      "source": [
        "\n",
        "X=2\n",
        "\n",
        "if X%2 == 0:\n",
        "    print(\"Even Number\")\n",
        "else:\n",
        "    print(\"Odd Number\")"
      ],
      "metadata": {
        "id": "P0a4Ey7hVklJ"
      },
      "execution_count": null,
      "outputs": []
    },
    {
      "cell_type": "code",
      "source": [
        "\n",
        "\n",
        "X = 3\n",
        "\n",
        "if X < 10:\n",
        "  print('X는 10보다 작아!')\n",
        "  if X%2 == 0:\n",
        "      print('X는 짝수야!')\n",
        "  else:\n",
        "      print('X는 홀수야!')\n",
        "else:\n",
        "  print('X는 10보다 커!')\n",
        "  if X%2 == 0:\n",
        "      print('X는 짝수야!')\n",
        "  else:\n",
        "      print('X는 홀수야!')"
      ],
      "metadata": {
        "id": "qshQC1TUVp8a"
      },
      "execution_count": null,
      "outputs": []
    },
    {
      "cell_type": "code",
      "source": [
        "\n",
        "treeHit = 0\n",
        "\n",
        "while treeHit < 10:\n",
        "    treeHit = treeHit +1\n",
        "    print(\"나무를 %d번 찍었습니다.\" % treeHit)\n",
        "    if treeHit == 10:\n",
        "        print(\"나무 넘어갑니다.\")"
      ],
      "metadata": {
        "id": "3hidV6kEVqs_"
      },
      "execution_count": null,
      "outputs": []
    },
    {
      "cell_type": "code",
      "source": [
        "\n",
        "coffee = 10\n",
        "money = 300\n",
        "while money:\n",
        "    print(\"돈을 받았으니 커피를 줍니다\")\n",
        "    coffee = coffee -1\n",
        "    #break를 쓰면 여기서 멈춤\n",
        "    print(\"남은 커피의 양은 %d개입니다.\" % coffee)\n",
        "    if coffee == 0:\n",
        "        print(\"커피가 다 떨어졌습니다. 판매를 중지합니다.\")\n",
        "        break"
      ],
      "metadata": {
        "id": "RFWMX5cIVxh5"
      },
      "execution_count": null,
      "outputs": []
    },
    {
      "cell_type": "code",
      "source": [
        "while True:\n",
        "    print(\"Ctrl+C를 눌러야 while문을 빠져나갈 수 있습니다.\")"
      ],
      "metadata": {
        "id": "E955cUM4VzNp"
      },
      "execution_count": null,
      "outputs": []
    },
    {
      "cell_type": "code",
      "source": [
        "\n",
        "i = 0\n",
        "result1 = 0\n",
        "while i < 100:\n",
        "    i = i + 1\n",
        "    if i % 2 == 0:\n",
        "        print('1번 방법 : {0} {1}'.format(i,result1))\n",
        "        result1 = result1 + i\n",
        "\n",
        "print('1번 방법 : {0}'.format(result1))"
      ],
      "metadata": {
        "id": "DQBrnjB2V472"
      },
      "execution_count": null,
      "outputs": []
    },
    {
      "cell_type": "code",
      "source": [
        "\n",
        "j = 0\n",
        "result2 = 0\n",
        "while True:\n",
        "    if j > 100:\n",
        "        break\n",
        "\n",
        "    j = j + 1\n",
        "    if j % 2 == 0:\n",
        "        result2 = result2 + j\n",
        "        print('2번 방법 (break) : {0}'.format(result2))"
      ],
      "metadata": {
        "id": "jFiirQi8V-RV"
      },
      "execution_count": null,
      "outputs": []
    }
  ]
}