{
  "nbformat": 4,
  "nbformat_minor": 0,
  "metadata": {
    "colab": {
      "provenance": [],
      "authorship_tag": "ABX9TyOal1lW5o2P1OGtxQ0wsMpb",
      "include_colab_link": true
    },
    "kernelspec": {
      "name": "python3",
      "display_name": "Python 3"
    },
    "language_info": {
      "name": "python"
    }
  },
  "cells": [
    {
      "cell_type": "markdown",
      "metadata": {
        "id": "view-in-github",
        "colab_type": "text"
      },
      "source": [
        "<a href=\"https://colab.research.google.com/github/202515026woorim/ABCD-A/blob/main/0406.ipynb\" target=\"_parent\"><img src=\"https://colab.research.google.com/assets/colab-badge.svg\" alt=\"Open In Colab\"/></a>"
      ]
    },
    {
      "cell_type": "code",
      "execution_count": 3,
      "metadata": {
        "colab": {
          "base_uri": "https://localhost:8080/"
        },
        "id": "7hyfvxBLCkIB",
        "outputId": "26f8bc72-f8b2-47c2-dc19-70879cefff5b"
      },
      "outputs": [
        {
          "output_type": "stream",
          "name": "stdout",
          "text": [
            "공이 떨어지기까지 걸린 시간(s)을 입력하세요: 2\n",
            "수평 거리(m)를 입력하세요: 2\n",
            "\n",
            "[결과]\n",
            "a) 공의 처음속도 크기: 1.00 m/s\n",
            "b) 건물 높이: 19.62 m\n",
            "c) 충돌 순간 속도 크기: 19.65 m/s\n",
            "   충돌 순간 속도 방향 (수평선과 이루는 각도): 87.08도\n"
          ]
        }
      ],
      "source": [
        "import math\n",
        "\n",
        "t = float(input(\"공이 떨어지기까지 걸린 시간(s)을 입력하세요: \"));\n",
        "\n",
        "x = float(input(\"수평 거리(m)를 입력하세요: \"))\n",
        "\n",
        "g = 9.81;\n",
        "\n",
        "a = -g;\n",
        "\n",
        "y0 = 0;\n",
        "\n",
        "v0y = 0;\n",
        "\n",
        "v0x = x/t\n",
        "\n",
        "y = y0 + v0y*t + 1/2*g*t*t;\n",
        "\n",
        "vx = v0x;\n",
        "2\n",
        "vy = v0y + g * t;\n",
        "\n",
        "\n",
        "v = math.sqrt(vx*vx + vy*vy);\n",
        "\n",
        "theta_rad = math.atan(vy/vx);\n",
        "theta_deg = math.degrees(theta_rad);\n",
        "\n",
        "print(f\"\\n[결과]\")\n",
        "\n",
        "print(f\"a) 공의 처음속도 크기: {v0x:.2f} m/s\")\n",
        "print(f\"b) 건물 높이: {y:.2f} m\")\n",
        "\n",
        "print(f\"c) 충돌 순간 속도 크기: {v:.2f} m/s\")\n",
        "\n",
        "print(f\"충돌 순간 속도 방향 (수평선과 이루는 각도): {theta_deg:.2f}도\")"
      ]
    }
  ]
}