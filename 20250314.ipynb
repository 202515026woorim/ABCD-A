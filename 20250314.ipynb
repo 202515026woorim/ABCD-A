{
  "nbformat": 4,
  "nbformat_minor": 0,
  "metadata": {
    "colab": {
      "provenance": [],
      "authorship_tag": "ABX9TyPvVAFBhvBjtmH24o5AXV4H",
      "include_colab_link": true
    },
    "kernelspec": {
      "name": "python3",
      "display_name": "Python 3"
    },
    "language_info": {
      "name": "python"
    }
  },
  "cells": [
    {
      "cell_type": "markdown",
      "metadata": {
        "id": "view-in-github",
        "colab_type": "text"
      },
      "source": [
        "<a href=\"https://colab.research.google.com/github/202515026woorim/ABCD-A/blob/20250314/20250314.ipynb\" target=\"_parent\"><img src=\"https://colab.research.google.com/assets/colab-badge.svg\" alt=\"Open In Colab\"/></a>"
      ]
    },
    {
      "cell_type": "code",
      "execution_count": 1,
      "metadata": {
        "colab": {
          "base_uri": "https://localhost:8080/"
        },
        "id": "AF88URF2X9xm",
        "outputId": "7b000d54-ea9b-4895-eb02-c837bdc5777c"
      },
      "outputs": [
        {
          "output_type": "stream",
          "name": "stdout",
          "text": [
            "Hello World\n"
          ]
        }
      ],
      "source": [
        "#001 print 기초\n",
        "print(\"Hello World\")"
      ]
    },
    {
      "cell_type": "code",
      "source": [
        "#002 print 기초\n",
        "print(\"mary's cosmetics\")"
      ],
      "metadata": {
        "colab": {
          "base_uri": "https://localhost:8080/"
        },
        "id": "6rFoGzBdeVBa",
        "outputId": "dcd92920-2fd1-438c-f087-2593b4f342f1"
      },
      "execution_count": 2,
      "outputs": [
        {
          "output_type": "stream",
          "name": "stdout",
          "text": [
            "mary's cosmetics\n"
          ]
        }
      ]
    },
    {
      "cell_type": "code",
      "source": [
        "#003 print 기초\n",
        "print('신씨가 소리를 질렀다. \"도둑이야\"')"
      ],
      "metadata": {
        "colab": {
          "base_uri": "https://localhost:8080/"
        },
        "id": "GH4xMGHIepwt",
        "outputId": "5a353377-de86-489b-c603-adabf55e66f1"
      },
      "execution_count": 3,
      "outputs": [
        {
          "output_type": "stream",
          "name": "stdout",
          "text": [
            "신씨가 소리를 질렀다. \"도둑이야\"\n"
          ]
        }
      ]
    },
    {
      "cell_type": "code",
      "source": [
        "#004 print 기초\n",
        "print(\"C:\\\\Windows\")"
      ],
      "metadata": {
        "colab": {
          "base_uri": "https://localhost:8080/"
        },
        "id": "2Vv0PWRJe1I9",
        "outputId": "f470d54b-e97e-49bb-e164-4dc19c972c50"
      },
      "execution_count": 4,
      "outputs": [
        {
          "output_type": "stream",
          "name": "stdout",
          "text": [
            "C:\\Windows\n"
          ]
        }
      ]
    },
    {
      "cell_type": "code",
      "source": [
        "#005 print 기초\n",
        "print(\"안녕하세요.\\n만나서\\t\\t반갑습니다.\")"
      ],
      "metadata": {
        "colab": {
          "base_uri": "https://localhost:8080/"
        },
        "id": "PcB0TevcfvnP",
        "outputId": "4d146a48-06a8-4a47-c1c8-d0059e346a22"
      },
      "execution_count": 5,
      "outputs": [
        {
          "output_type": "stream",
          "name": "stdout",
          "text": [
            "안녕하세요.\n",
            "만나서\t\t반갑습니다.\n"
          ]
        }
      ]
    },
    {
      "cell_type": "code",
      "source": [
        "#006 print 기초\n",
        "print(\"오늘은\",\"일요일\")"
      ],
      "metadata": {
        "colab": {
          "base_uri": "https://localhost:8080/"
        },
        "id": "EO-Z8TaOgZBj",
        "outputId": "ef3e7d44-04ea-478b-c872-6da91d747f4e"
      },
      "execution_count": 6,
      "outputs": [
        {
          "output_type": "stream",
          "name": "stdout",
          "text": [
            "오늘은 일요일\n"
          ]
        }
      ]
    },
    {
      "cell_type": "code",
      "source": [
        "#007 print 기초\n",
        "print(\"naver\",\"kakao\",\"sk\",\"samsung\",sep=';')"
      ],
      "metadata": {
        "colab": {
          "base_uri": "https://localhost:8080/"
        },
        "id": "xqpCvbr-gjFV",
        "outputId": "1580c30d-4120-4f95-fe59-e7baab3d1ec5"
      },
      "execution_count": 7,
      "outputs": [
        {
          "output_type": "stream",
          "name": "stdout",
          "text": [
            "naver;kakao;sk;samsung\n"
          ]
        }
      ]
    },
    {
      "cell_type": "code",
      "source": [
        "#008 print 기초\n",
        "print(\"naver\",\"kakao\",\"sk\",\"samsung\",sep='/')"
      ],
      "metadata": {
        "colab": {
          "base_uri": "https://localhost:8080/"
        },
        "id": "8dHvXatSg3El",
        "outputId": "1cc18baf-088f-4b22-9c28-ee6700dc7c6c"
      },
      "execution_count": 8,
      "outputs": [
        {
          "output_type": "stream",
          "name": "stdout",
          "text": [
            "naver/kakao/sk/samsung\n"
          ]
        }
      ]
    },
    {
      "cell_type": "code",
      "source": [
        "#009 print 기초\n",
        "print(\"first\",end=\"\");print(\"second\")"
      ],
      "metadata": {
        "colab": {
          "base_uri": "https://localhost:8080/"
        },
        "id": "ttGqadqqhP3l",
        "outputId": "f62f73ca-1658-413f-e92e-769d7c12021c"
      },
      "execution_count": 9,
      "outputs": [
        {
          "output_type": "stream",
          "name": "stdout",
          "text": [
            "firstsecond\n"
          ]
        }
      ]
    },
    {
      "cell_type": "code",
      "source": [
        "#010 print 기초\n",
        "print(5/3)"
      ],
      "metadata": {
        "colab": {
          "base_uri": "https://localhost:8080/"
        },
        "id": "JoFyGQSUhjW_",
        "outputId": "5f6f8ad3-bc31-40ba-8702-fba1a6dbcb93"
      },
      "execution_count": 10,
      "outputs": [
        {
          "output_type": "stream",
          "name": "stdout",
          "text": [
            "1.6666666666666667\n"
          ]
        }
      ]
    }
  ]
}