{
  "nbformat": 4,
  "nbformat_minor": 0,
  "metadata": {
    "colab": {
      "provenance": [],
      "authorship_tag": "ABX9TyNvJ3gL83mT8nyMdGSuZRrD",
      "include_colab_link": true
    },
    "kernelspec": {
      "name": "python3",
      "display_name": "Python 3"
    },
    "language_info": {
      "name": "python"
    }
  },
  "cells": [
    {
      "cell_type": "markdown",
      "metadata": {
        "id": "view-in-github",
        "colab_type": "text"
      },
      "source": [
        "<a href=\"https://colab.research.google.com/github/202515026woorim/ABCD-A/blob/main/04_06.ipynb\" target=\"_parent\"><img src=\"https://colab.research.google.com/assets/colab-badge.svg\" alt=\"Open In Colab\"/></a>"
      ]
    },
    {
      "cell_type": "code",
      "execution_count": 2,
      "metadata": {
        "colab": {
          "base_uri": "https://localhost:8080/"
        },
        "id": "MF4IEOnQnhho",
        "outputId": "848a1a0f-4309-4d60-d129-874a0b616a43"
      },
      "outputs": [
        {
          "output_type": "stream",
          "name": "stdout",
          "text": [
            "공이 떨어지기까지 걸린 시간(s)을 입력하세요: 2\n",
            "수평 거리(m)를 입력하세요: 3\n",
            "\n",
            "[결과]\n",
            "a) 공의 수평 방향 처음 속도: 1.50 m/s\n",
            "b) 건물 높이: 19.62 m\n",
            "c) 충돌 순간 속도 크기: 19.68 m/s\n",
            "   충돌 순간 속도 방향 (수평선과 이루는 각도): -85.63도\n"
          ]
        }
      ],
      "source": [
        "import math\n",
        "\n",
        "# 사용자 입력\n",
        "t = float(input(\"공이 떨어지기까지 걸린 시간(s)을 입력하세요: \"))\n",
        "x = float(input(\"수평 거리(m)를 입력하세요: \"))\n",
        "\n",
        "# 중력가속도 (음의 방향으로 작용)\n",
        "g = -9.81\n",
        "\n",
        "# 초기 위치와 수직 방향 속도\n",
        "y0 = 0\n",
        "v0y = 0\n",
        "\n",
        "# a) 공의 수평 방향 초기 속도 계산\n",
        "v0x = x / t\n",
        "\n",
        "# b) 건물의 높이 계산: y = y0 + v0y*t + 1/2 * g * t^2\n",
        "y = y0 + v0y * t + 0.5 * g * t**2\n",
        "\n",
        "# c) 공의 충돌 순간 속도 (벡터 합)\n",
        "vx = v0x\n",
        "vy = v0y + g * t\n",
        "v = math.sqrt(vx**2 + vy**2)\n",
        "\n",
        "# 속도 방향(수평선과의 각도)\n",
        "theta_rad = math.atan2(vy, vx)\n",
        "theta_deg = math.degrees(theta_rad)\n",
        "\n",
        "# 결과 출력\n",
        "print(f\"\\n[결과]\")\n",
        "print(f\"a) 공의 수평 방향 처음 속도: {v0x:.2f} m/s\")\n",
        "print(f\"b) 건물 높이: {abs(y):.2f} m\")  # 절댓값으로 표시\n",
        "print(f\"c) 충돌 순간 속도 크기: {v:.2f} m/s\")\n",
        "print(f\"   충돌 순간 속도 방향 (수평선과 이루는 각도): {theta_deg:.2f}도\")"
      ]
    }
  ]
}