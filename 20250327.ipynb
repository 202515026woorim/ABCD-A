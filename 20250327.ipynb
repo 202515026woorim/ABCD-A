{
  "nbformat": 4,
  "nbformat_minor": 0,
  "metadata": {
    "colab": {
      "provenance": [],
      "authorship_tag": "ABX9TyOH93xUMJgaQSJI1o5axUU7",
      "include_colab_link": true
    },
    "kernelspec": {
      "name": "python3",
      "display_name": "Python 3"
    },
    "language_info": {
      "name": "python"
    }
  },
  "cells": [
    {
      "cell_type": "markdown",
      "metadata": {
        "id": "view-in-github",
        "colab_type": "text"
      },
      "source": [
        "<a href=\"https://colab.research.google.com/github/202515026woorim/ABCD-A/blob/main/20250327.ipynb\" target=\"_parent\"><img src=\"https://colab.research.google.com/assets/colab-badge.svg\" alt=\"Open In Colab\"/></a>"
      ]
    },
    {
      "cell_type": "code",
      "execution_count": null,
      "metadata": {
        "id": "bVLWNjUg6rF3"
      },
      "outputs": [],
      "source": [
        "삼성전자=50000\n",
        "총평가금액 = 삼성전자 * 10\n",
        "print(총평가금액)"
      ]
    },
    {
      "cell_type": "code",
      "source": [
        "시가총액= 298000000000000\n",
        "현재가= 50000\n",
        "PER= 15.79\n",
        "print(\"시가총액\", type(시가총액))\n",
        "print(\"현재가\", type(현재가))\n",
        "print(\"PER\", type(PER))"
      ],
      "metadata": {
        "id": "VL8MKR-16uNo"
      },
      "execution_count": null,
      "outputs": []
    },
    {
      "cell_type": "code",
      "source": [
        "s=\"hello! \"\n",
        "t=\"python\"\n",
        "\n",
        "print(s+t)"
      ],
      "metadata": {
        "id": "dZRFlApZ6wtU"
      },
      "execution_count": null,
      "outputs": []
    },
    {
      "cell_type": "code",
      "source": [
        "a=2\n",
        "b=3\n",
        "a+a*b"
      ],
      "metadata": {
        "id": "4dTvgDFA6ya-"
      },
      "execution_count": null,
      "outputs": []
    }
  ]
}